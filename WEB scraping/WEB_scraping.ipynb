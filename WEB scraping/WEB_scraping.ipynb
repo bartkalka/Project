{
 "cells": [
  {
   "cell_type": "code",
   "execution_count": null,
   "metadata": {},
   "outputs": [],
   "source": [
    "import pandas as pd\n",
    "import numpy as np\n",
    "import requests\n",
    "import time\n",
    "from bs4 import BeautifulSoup as bs\n",
    "\n",
    "\n",
    "class MicroScraper:\n",
    "    def __init__(self, base_url):\n",
    "        self.base_url = base_url\n",
    "        self.data = []\n",
    "\n",
    "    def scrape_pages(self, pages):\n",
    "        # Downloading data from pages\n",
    "        for page in range(1, pages + 1):\n",
    "            print(f'Page: {page} / {pages}')\n",
    "            page_url = f'{self.base_url}{page}'\n",
    "            r = requests.get(page_url)\n",
    "            time.sleep(4)\n",
    "            soup = bs(r.content, 'html.parser')\n",
    "            self._scrape_offers(soup)\n",
    "\n",
    "    def _scrape_offers(self, soup):\n",
    "        # Searching for offers with microphones on page\n",
    "        micro_offers = soup.find_all('div', class_='tests-product-entry')\n",
    "        # Collecting parameters\n",
    "        for offer in micro_offers:\n",
    "            # Creating data dictionary\n",
    "            offer_dict = {}\n",
    "            # Defining base parameters\n",
    "            url = offer.a['href']\n",
    "            title = offer.a.get_text().strip()\n",
    "            price = offer.find('div', class_='text-3xl font-bold leading-8').text.replace(u'\\xa0', u' ').strip()\n",
    "            offer_dict['Nazwa'] = title\n",
    "            offer_dict['URL'] = url\n",
    "            offer_dict['Cena'] = price\n",
    "            params = offer.find_all('div', class_='py-1')[:-1]\n",
    "            # Filling dict with parameters\n",
    "            for param in params:\n",
    "                try:\n",
    "                    name, value = param.get_text().replace('\\n', '').strip().split(':')\n",
    "                    offer_dict[name.strip()] = value.strip()\n",
    "                except:\n",
    "                    pass\n",
    "            # Adding dict to list\n",
    "            self.data.append(offer_dict)"
   ]
  },
  {
   "cell_type": "code",
   "execution_count": null,
   "metadata": {},
   "outputs": [],
   "source": [
    "# Link\n",
    "base_url = 'https://www.komputronik.pl/category/8083/mikrofony.html?showBuyActiveOnly=0'\n",
    "\n",
    "# Collecting pages with micros\n",
    "\n",
    "r = requests.get(base_url)\n",
    "print(r.status_code) # checking HTTP response code\n",
    "time.sleep(4)\n",
    "soup = bs(r.content, 'html.parser')\n",
    "pages = soup.find_all('li', class_='flex justify-center items-center w-8 h-8 rounded border border-gray-mercury cursor-pointer')\n",
    "pages = int(pages[-1].get_text().strip())\n",
    "\n",
    "# Creating scraper\n",
    "scraper = MicroScraper(base_url)\n",
    "# Searching pages and collecting data\n",
    "scraper.scrape_pages(pages)"
   ]
  },
  {
   "cell_type": "code",
   "execution_count": null,
   "metadata": {},
   "outputs": [],
   "source": [
    "# Conversion from dict to data frame\n",
    "df = pd.DataFrame(scraper.data)"
   ]
  },
  {
   "cell_type": "code",
   "execution_count": null,
   "metadata": {},
   "outputs": [],
   "source": [
    "df"
   ]
  },
  {
   "cell_type": "code",
   "execution_count": null,
   "metadata": {},
   "outputs": [],
   "source": [
    "# Data analysis\n",
    "df.info()"
   ]
  },
  {
   "cell_type": "code",
   "execution_count": null,
   "metadata": {},
   "outputs": [],
   "source": [
    "# Prices\n",
    "df['Cena'] = df['Cena'].apply(lambda x: float(x.split('zł')[0].replace(' ', '').replace(',', '.')))"
   ]
  },
  {
   "cell_type": "code",
   "execution_count": null,
   "metadata": {},
   "outputs": [],
   "source": [
    "df.head()"
   ]
  },
  {
   "cell_type": "code",
   "execution_count": null,
   "metadata": {},
   "outputs": [],
   "source": [
    "# prices statistics\n",
    "df['Cena'].describe()"
   ]
  },
  {
   "cell_type": "code",
   "execution_count": null,
   "metadata": {},
   "outputs": [],
   "source": [
    "# Showing data of most expensive micro\n",
    "df[df['Cena'] == 1279.00]"
   ]
  },
  {
   "cell_type": "code",
   "execution_count": null,
   "metadata": {},
   "outputs": [],
   "source": [
    "# Showing data of least expensive micro\n",
    "df[df['Cena'] == 29.70]"
   ]
  },
  {
   "cell_type": "code",
   "execution_count": null,
   "metadata": {},
   "outputs": [],
   "source": [
    "df.isna().sum()"
   ]
  }
 ],
 "metadata": {
  "language_info": {
   "name": "python"
  }
 },
 "nbformat": 4,
 "nbformat_minor": 2
}
